{
 "cells": [
  {
   "cell_type": "code",
   "execution_count": 3,
   "id": "677bfffb",
   "metadata": {},
   "outputs": [
    {
     "name": "stdout",
     "output_type": "stream",
     "text": [
      "enter a number4\n",
      "enter a number5\n",
      "1024\n",
      "2.0\n",
      "2.0\n"
     ]
    }
   ],
   "source": [
    "import math\n",
    "\n",
    "x = int(input('enter a number'))\n",
    "y = int(input('enter a number'))\n",
    "\n",
    "print(x**y)\n",
    "\n",
    "print(math.log(x,2))\n",
    "print(math.log(x)/math.log(2))  #change of base, default log is ln\n"
   ]
  },
  {
   "cell_type": "code",
   "execution_count": null,
   "id": "b9bc345e",
   "metadata": {},
   "outputs": [],
   "source": []
  }
 ],
 "metadata": {
  "kernelspec": {
   "display_name": "Python 3 (ipykernel)",
   "language": "python",
   "name": "python3"
  },
  "language_info": {
   "codemirror_mode": {
    "name": "ipython",
    "version": 3
   },
   "file_extension": ".py",
   "mimetype": "text/x-python",
   "name": "python",
   "nbconvert_exporter": "python",
   "pygments_lexer": "ipython3",
   "version": "3.8.10"
  }
 },
 "nbformat": 4,
 "nbformat_minor": 5
}
