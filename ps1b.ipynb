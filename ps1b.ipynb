{
 "cells": [
  {
   "cell_type": "code",
   "execution_count": 6,
   "id": "db1db6e7",
   "metadata": {},
   "outputs": [],
   "source": [
    "def no_of_months():\n",
    "    #Write a program to calculate how many months it will take you save up enough money for a down\n",
    "    #payment with a semi annual raise\n",
    "\n",
    "    annual_salary = float(input('enter your annual salary: '))\n",
    "    portion_saved = float(input('ener the percent of your salary to save, as a decimal: '))\n",
    "    total_cost = float(input('enter the cost of your dream home: '))\n",
    "    semi_annual_raise = float(input('your semi annula raise, as decimal percentage: '))\n",
    "\n",
    "    current_savings = 0\n",
    "    \n",
    "    monthly_salary = annual_salary/12\n",
    "\n",
    "    r = 0.04\n",
    "\n",
    "    portion_downpayment = 0.25*total_cost\n",
    "    \n",
    "    months = 0\n",
    "    \n",
    "    while (current_savings < portion_downpayment):\n",
    "        current_savings += (current_savings * r/12) + monthly_salary * portion_saved\n",
    "        months += 1\n",
    "        if months % 6 == 0:\n",
    "            monthly_salary += semi_annual_raise*monthly_salary\n",
    "\n",
    "    print('Number of months:', months)\n",
    "\n"
   ]
  },
  {
   "cell_type": "code",
   "execution_count": 5,
   "id": "2aeb4cf9",
   "metadata": {},
   "outputs": [
    {
     "name": "stdout",
     "output_type": "stream",
     "text": [
      "enter your annual salary: 120000\n",
      "ener the percent of your salary to save, as a decimal: 0.05\n",
      "enter the cost of your dream home: 500000\n",
      "your semi annula raise, as decimal percentage: 0.03\n",
      "Number of months: 142\n"
     ]
    }
   ],
   "source": [
    "no_of_months()"
   ]
  },
  {
   "cell_type": "code",
   "execution_count": null,
   "id": "f86655a9",
   "metadata": {},
   "outputs": [],
   "source": []
  }
 ],
 "metadata": {
  "kernelspec": {
   "display_name": "Python 3 (ipykernel)",
   "language": "python",
   "name": "python3"
  },
  "language_info": {
   "codemirror_mode": {
    "name": "ipython",
    "version": 3
   },
   "file_extension": ".py",
   "mimetype": "text/x-python",
   "name": "python",
   "nbconvert_exporter": "python",
   "pygments_lexer": "ipython3",
   "version": "3.8.10"
  }
 },
 "nbformat": 4,
 "nbformat_minor": 5
}
